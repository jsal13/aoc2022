{
 "cells": [
  {
   "cell_type": "code",
   "execution_count": 72,
   "metadata": {},
   "outputs": [],
   "source": [
    "from dataclasses import dataclass, field\n",
    "from typing import List, Optional, Union\n",
    "from collections import defaultdict\n",
    "import json\n",
    "import os\n",
    "import string\n",
    "from string import ascii_letters\n",
    "from textwrap import dedent\n",
    "\n",
    "import numpy as np\n",
    "import pandas as pd"
   ]
  },
  {
   "cell_type": "code",
   "execution_count": 83,
   "metadata": {},
   "outputs": [],
   "source": [
    "@dataclass\n",
    "class File:\n",
    "    \"\"\"Represent a File which will have a name, extension, and size.\"\"\"\n",
    "    name: str\n",
    "    extension: str\n",
    "    size: int\n",
    "\n",
    "\n",
    "@dataclass\n",
    "class Directory:\n",
    "    \"\"\"Represent a directory which may contain other ``Directory``s and ``File``s.\"\"\"\n",
    "    def __init__(self, name: str, parent: Optional['Directory'], children: Optional[List[Union['Directory', File]]]):\n",
    "        self.name = name\n",
    "        self.parent = parent\n",
    "        self.children = children\n",
    "\n",
    "@dataclass\n",
    "class FileSystem:\n",
    "    \"\"\"Represents the file system containing ``Directory``s and ``File``s.\"\"\"\n",
    "\n",
    "    dirs: List[Directory]\n",
    "\n",
    "    def add_child_directory(self, target_dir_name: str, parent_dir_name: Directory):\n",
    "        if target_dir_name not in [d.name for d in self.dirs if isinstance(d, Directory)]:\n",
    "            parent_dir = [d for d in self.dirs if d.name == parent_dir_name][0]\n",
    "            self.dirs.append(Directory(name=target_dir_name, parent=parent_dir, children=[]))\n",
    "    \n",
    "    def add_files_to_directory(self, target_dir_name: str, file: File):\n",
    "        target_dir = [d for d in self.dirs if d.name == target_dir_name][0]\n",
    "        if file.name not in [f for f in target_dir.children if isinstance(f, File)]:\n",
    "            target_dir.children.append(file)\n",
    "        \n",
    "    \n"
   ]
  },
  {
   "cell_type": "code",
   "execution_count": 78,
   "metadata": {},
   "outputs": [],
   "source": [
    "def parse_process_list(input_stream) -> List[List[str]]:\n",
    "    \"\"\"Parse input data into commands.\"\"\"\n",
    "    current_line_idx = 0\n",
    "    current_line = None\n",
    "    parsed_commands_list = []\n",
    "    cwd = \"\"\n",
    "    process_list = list(input_stream.splitlines())\n",
    "    while current_line_idx < len(process_list) - 1:\n",
    "        current_line = process_list[current_line_idx]\n",
    "        \n",
    "        if current_line[0] == \"$\":\n",
    "            # Line is a command.\n",
    "\n",
    "            if current_line[2:4] == \"cd\":\n",
    "                # Change directory...\n",
    "                split_command = current_line.split(\" \")\n",
    "                cwd = os.path.abspath(os.path.join(cwd, split_command[2]))\n",
    "                parsed_commands_list.append(split_command[1:3])\n",
    "\n",
    "                current_line_idx += 1\n",
    "\n",
    "            elif current_line[2:4] == \"ls\":\n",
    "                # List directory... \n",
    "                ls_cmd = [\"ls\", cwd]\n",
    "                \n",
    "                while (\n",
    "                    current_line_idx < len(process_list) - 1\n",
    "                    and process_list[current_line_idx + 1][0] != \"$\"         \n",
    "                ):\n",
    "                    current_line_idx += 1\n",
    "                    current_line = process_list[current_line_idx]\n",
    "                    ls_cmd.append(current_line)\n",
    "                \n",
    "                parsed_commands_list.append(ls_cmd)\n",
    "                current_line_idx += 1\n",
    "            else:\n",
    "                current_line_idx += 1\n",
    "        else:\n",
    "            raise ValueError(\"Should not be processing a non-command.\")\n",
    "\n",
    "    return parsed_commands_list"
   ]
  },
  {
   "cell_type": "code",
   "execution_count": 79,
   "metadata": {},
   "outputs": [],
   "source": [
    "data = \"\"\"$ cd /\n",
    "$ ls\n",
    "dir a\n",
    "14848514 b.txt\n",
    "8504156 c.dat\n",
    "dir d\n",
    "$ cd a\n",
    "$ ls\n",
    "dir e\n",
    "29116 f\n",
    "2557 g\n",
    "62596 h.lst\n",
    "$ cd e\n",
    "$ ls\n",
    "584 i\n",
    "$ cd ..\n",
    "$ cd ..\n",
    "$ cd d\n",
    "$ ls\n",
    "4060174 j\n",
    "8033020 d.log\n",
    "5626152 d.ext\n",
    "7214296 k\"\"\".strip()"
   ]
  },
  {
   "cell_type": "code",
   "execution_count": 103,
   "metadata": {},
   "outputs": [],
   "source": [
    "parsed_cmds = parse_process_list(data)\n",
    "\n",
    "fs = FileSystem(dirs=[Directory(name=\"/\", parent=None, children=[])])\n",
    "cwd = '/'\n",
    "for cmd in parsed_cmds:\n",
    "    if cmd[0] == \"cd\":\n",
    "        new_dir_loc = os.path.abspath(os.path.join(cwd, cmd[1]))\n",
    "        fs.add_child_directory(new_dir_loc, parent_dir_name=cwd)\n",
    "        cwd = new_dir_loc\n",
    "    if cmd[0] == \"ls\":\n",
    "        cwd = cmd[1]\n",
    "        for item in cmd[2:]:\n",
    "            if item[:4] == \"dir \":\n",
    "                fs.add_child_directory(item[4:], cwd)\n",
    "            else:\n",
    "                fs.add_files_to_directory(cwd, File(name=item, extension=\"0\", size=\"0\"))"
   ]
  },
  {
   "cell_type": "code",
   "execution_count": 106,
   "metadata": {},
   "outputs": [
    {
     "name": "stdout",
     "output_type": "stream",
     "text": [
      "/ [File(name='14848514 b.txt', extension='0', size='0'), File(name='8504156 c.dat', extension='0', size='0')]\n",
      "/a [File(name='29116 f', extension='0', size='0'), File(name='2557 g', extension='0', size='0'), File(name='62596 h.lst', extension='0', size='0')]\n",
      "/a/e [File(name='584 i', extension='0', size='0')]\n",
      "/d [File(name='4060174 j', extension='0', size='0'), File(name='8033020 d.log', extension='0', size='0'), File(name='5626152 d.ext', extension='0', size='0'), File(name='7214296 k', extension='0', size='0')]\n"
     ]
    }
   ],
   "source": [
    "for d in fs.dirs:\n",
    "    if not any([isinstance(child, Directory) for child in d.children]) and d.children != []:\n",
    "        print(d.name, d.children)\n",
    "        "
   ]
  },
  {
   "cell_type": "code",
   "execution_count": null,
   "metadata": {},
   "outputs": [],
   "source": []
  }
 ],
 "metadata": {
  "kernelspec": {
   "display_name": "Python 3.10.8 ('aoc2022-FJPvAGVu-py3.10')",
   "language": "python",
   "name": "python3"
  },
  "language_info": {
   "codemirror_mode": {
    "name": "ipython",
    "version": 3
   },
   "file_extension": ".py",
   "mimetype": "text/x-python",
   "name": "python",
   "nbconvert_exporter": "python",
   "pygments_lexer": "ipython3",
   "version": "3.10.8"
  },
  "orig_nbformat": 4,
  "vscode": {
   "interpreter": {
    "hash": "ca234437720bc153a5691ad5a4ea5812ba85bda9f7ee31d6a24eb993ad4d097f"
   }
  }
 },
 "nbformat": 4,
 "nbformat_minor": 2
}
